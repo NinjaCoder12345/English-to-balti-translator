{
  "metadata": {
    "colab": {
      "private_outputs": true,
      "provenance": []
    },
    "kernelspec": {
      "name": "python3",
      "display_name": "Python 3"
    },
    "language_info": {
      "name": "python",
      "version": "3.10.12",
      "mimetype": "text/x-python",
      "codemirror_mode": {
        "name": "ipython",
        "version": 3
      },
      "pygments_lexer": "ipython3",
      "nbconvert_exporter": "python",
      "file_extension": ".py"
    }
  },
  "nbformat_minor": 0,
  "nbformat": 4,
  "cells": [
    {
      "cell_type": "markdown",
      "source": [
        "# Neural machine translation with attention"
      ],
      "metadata": {
        "id": "J0Qjg6vuaHNt"
      }
    },
    {
      "cell_type": "markdown",
      "source": [],
      "metadata": {
        "id": "LjWmND7PDt9p"
      }
    },
    {
      "cell_type": "markdown",
      "source": [
        "This tutorial demonstrates how to train a sequence-to-sequence (seq2seq) model for Spanish-to-English translation roughly based on [Effective Approaches to Attention-based Neural Machine Translation](https://arxiv.org/abs/1508.04025v5) (Luong et al., 2015).\n",
        "\n",
        "<table>\n",
        "<tr>\n",
        "  <td>\n",
        "   <img width=400 src=\"https://www.tensorflow.org/images/tutorials/transformer/RNN%2Battention-words-spa.png\"/>\n",
        "  </td>\n",
        "</tr>\n",
        "<tr>\n",
        "  <th colspan=1>This tutorial: An encoder/decoder connected by attention.</th>\n",
        "<tr>\n",
        "</table>\n",
        "\n",
        "While this architecture is somewhat outdated, it is still a very useful project to work through to get a deeper understanding of sequence-to-sequence models and attention mechanisms (before going on to [Transformers](transformer.ipynb))."
      ],
      "metadata": {
        "id": "Xh8WNEwYA3BW"
      }
    },
    {
      "cell_type": "markdown",
      "source": [
        "\n",
        "\n",
        "This example assumes some knowledge of TensorFlow fundamentals below the level of a Keras layer:\n",
        "  * [Working with tensors](https://www.tensorflow.org/guide/tensor) directly\n",
        "  * [Writing custom `keras.Model`s and `keras.layers`](https://www.tensorflow.org/guide/keras/custom_layers_and_models)\n",
        "\n",
        "After training the model in this notebook, you will be able to input a Spanish sentence, such as \"*¿todavia estan en casa?*\", and return the English translation: \"*are you still at home?*\"\n",
        "\n",
        "The translation quality is reasonable for a toy example, but the generated attention plot is perhaps more interesting. This shows which parts of the input sentence has the model's attention while translating:\n",
        "\n",
        "<img src=\"https://tensorflow.org/images/spanish-english.png\" alt=\"spanish-english attention plot\">\n"
      ],
      "metadata": {
        "id": "CiwtNgENbx2g"
      }
    },
    {
      "cell_type": "code",
      "source": [
        "#install mendatory libraries and req version\n",
        "\n",
        "\n",
        "#!pip install \"tensorflow-text>=2.11\"\n",
        "!pip install einops\n",
        "!pip install tensorflow_text\n"
      ],
      "metadata": {
        "id": "DGFTkuRvzWqc",
        "execution": {
          "iopub.status.busy": "2023-08-31T11:40:56.887886Z",
          "iopub.execute_input": "2023-08-31T11:40:56.888596Z",
          "iopub.status.idle": "2023-08-31T11:41:08.580798Z",
          "shell.execute_reply.started": "2023-08-31T11:40:56.888560Z",
          "shell.execute_reply": "2023-08-31T11:41:08.579535Z"
        },
        "trusted": true
      },
      "execution_count": null,
      "outputs": []
    },
    {
      "cell_type": "code",
      "source": [
        "import numpy as np\n",
        "import pandas as pd\n",
        "import typing\n",
        "from typing import Any, Tuple #Lets you specify number of elements and the type of each position\n",
        "#typing.Tuple is special here in that it lets you specify a specific number of elements expected and the type of each position.\n",
        "#Use ellipsis if the length is not set and the type should be repeated: Tuple[float, ...] describes a variable-length tuple with floats.\n",
        "\n",
        "import einops                #Focuses on interface: Input -> output.\n",
        "import matplotlib.pyplot as plt\n",
        "import matplotlib.ticker as ticker\n",
        "\n",
        "import tensorflow as tf\n",
        "import tensorflow_text as tf_text"
      ],
      "metadata": {
        "id": "tnxXKDjq3jEL",
        "execution": {
          "iopub.status.busy": "2023-08-31T11:41:08.583439Z",
          "iopub.execute_input": "2023-08-31T11:41:08.583860Z",
          "iopub.status.idle": "2023-08-31T11:41:08.590660Z",
          "shell.execute_reply.started": "2023-08-31T11:41:08.583820Z",
          "shell.execute_reply": "2023-08-31T11:41:08.589713Z"
        },
        "trusted": true
      },
      "execution_count": null,
      "outputs": []
    },
    {
      "cell_type": "markdown",
      "source": [
        "This tutorial uses a lot of low level API's where it's easy to get shapes wrong. This class is used to check shapes throughout this tutorial.\n"
      ],
      "metadata": {
        "id": "l_yq8kvIqoqQ"
      }
    },
    {
      "cell_type": "code",
      "source": [
        "class ShapeChecker():\n",
        "  def __init__(self):\n",
        "    # Keep a cache of every axis-name seen\n",
        "    self.shapes = {}\n",
        "\n",
        "  def __call__(self, tensor, names, broadcast=False):\n",
        "    if not tf.executing_eagerly():\n",
        "      return\n",
        "\n",
        "    parsed = einops.parse_shape(tensor, names)\n",
        "\n",
        "    for name, new_dim in parsed.items():\n",
        "      old_dim = self.shapes.get(name, None)\n",
        "\n",
        "      if (broadcast and new_dim == 1):\n",
        "        continue\n",
        "\n",
        "      if old_dim is None:\n",
        "        # If the axis name is new, add its length to the cache.\n",
        "        self.shapes[name] = new_dim\n",
        "        continue\n",
        "\n",
        "      if new_dim != old_dim:\n",
        "        raise ValueError(f\"Shape mismatch for dimension: '{name}'\\n\"\n",
        "                         f\"    found: {new_dim}\\n\"\n",
        "                         f\"    expected: {old_dim}\\n\")"
      ],
      "metadata": {
        "id": "KqFqKi4fqN9X",
        "execution": {
          "iopub.status.busy": "2023-08-31T11:41:08.591829Z",
          "iopub.execute_input": "2023-08-31T11:41:08.592380Z",
          "iopub.status.idle": "2023-08-31T11:41:08.603669Z",
          "shell.execute_reply.started": "2023-08-31T11:41:08.592343Z",
          "shell.execute_reply": "2023-08-31T11:41:08.602598Z"
        },
        "trusted": true
      },
      "execution_count": null,
      "outputs": []
    },
    {
      "cell_type": "markdown",
      "source": [
        "## The data"
      ],
      "metadata": {
        "id": "gjUROhJfH3ML"
      }
    },
    {
      "cell_type": "markdown",
      "source": [
        "The tutorial uses a language dataset provided by [Anki](http://www.manythings.org/anki/). This dataset contains language translation pairs in the format:\n",
        "\n",
        "```\n",
        "May I borrow this book?\t¿Puedo tomar prestado este libro?\n",
        "```\n",
        "\n",
        "They have a variety of languages available, but this example uses the English-Spanish dataset."
      ],
      "metadata": {
        "id": "puE_K74DIE9W"
      }
    },
    {
      "cell_type": "markdown",
      "source": [
        "### Download and prepare the dataset\n",
        "\n",
        "For convenience, a copy of this dataset is hosted on Google Cloud, but you can also download your own copy. After downloading the dataset, here are the steps you need to take to prepare the data:\n"
      ],
      "metadata": {
        "id": "wfodePkj3jEa"
      }
    },
    {
      "cell_type": "markdown",
      "source": [
        "Flow chart for data preperation\n",
        "1. Add a *start* and *end* token to each sentence.\n",
        "2. Clean the sentences by removing special characters.\n",
        "3. Create a word index and reverse word index (dictionaries mapping from word → id and id → word).\n",
        "4. Pad each sentence to a maximum length."
      ],
      "metadata": {
        "id": "NTHRSaZnF7LY"
      }
    },
    {
      "cell_type": "code",
      "source": [
        "def load_data():\n",
        "  df = pd.read_csv(\"/content/balti.csv\")\n",
        "  df['balti'] = df['balti'].str.replace('\\n', '')\n",
        "  df = df.head(250)\n",
        "  source = np.array(df['english'])\n",
        "  target = np.array(df['balti'])\n",
        "\n",
        "  return target, source"
      ],
      "metadata": {
        "id": "OHn4Dct23jEm",
        "execution": {
          "iopub.status.busy": "2023-08-31T11:41:08.689876Z",
          "iopub.execute_input": "2023-08-31T11:41:08.690244Z",
          "iopub.status.idle": "2023-08-31T11:41:08.698590Z",
          "shell.execute_reply.started": "2023-08-31T11:41:08.690211Z",
          "shell.execute_reply": "2023-08-31T11:41:08.695388Z"
        },
        "trusted": true
      },
      "execution_count": null,
      "outputs": []
    },
    {
      "cell_type": "code",
      "source": [
        "target_raw, source_raw = load_data()\n",
        "print(source_raw[-1])\n"
      ],
      "metadata": {
        "id": "cTbSbBz55QtF",
        "execution": {
          "iopub.status.busy": "2023-08-31T11:41:08.700070Z",
          "iopub.execute_input": "2023-08-31T11:41:08.700398Z",
          "iopub.status.idle": "2023-08-31T11:41:09.151556Z",
          "shell.execute_reply.started": "2023-08-31T11:41:08.700367Z",
          "shell.execute_reply": "2023-08-31T11:41:09.150274Z"
        },
        "trusted": true
      },
      "execution_count": null,
      "outputs": []
    },
    {
      "cell_type": "code",
      "source": [
        "print(target_raw[-1])"
      ],
      "metadata": {
        "id": "lH_dPY8TRp3c",
        "execution": {
          "iopub.status.busy": "2023-08-31T11:41:09.154898Z",
          "iopub.execute_input": "2023-08-31T11:41:09.155481Z",
          "iopub.status.idle": "2023-08-31T11:41:09.161806Z",
          "shell.execute_reply.started": "2023-08-31T11:41:09.155430Z",
          "shell.execute_reply": "2023-08-31T11:41:09.160760Z"
        },
        "trusted": true
      },
      "execution_count": null,
      "outputs": []
    },
    {
      "cell_type": "markdown",
      "source": [
        "From these arrays of strings you can create a corpus `tf.data.Dataset` of strings that shuffles and batches them efficiently."
      ],
      "metadata": {
        "id": "PfVWx3WaI5Df"
      }
    },
    {
      "cell_type": "code",
      "source": [
        "BUFFER_SIZE = len(source_raw)\n",
        "print(BUFFER_SIZE)\n",
        "#\n",
        "BATCH_SIZE = 64\n",
        "\n",
        "is_train = np.random.uniform(size=(len(target_raw),)) < 0.8\n",
        "\n",
        "#creates a Numpy array that's filled with numeric values, select values greater then 80 percent threshold"
      ],
      "metadata": {
        "id": "3rZFgz69nMPa",
        "execution": {
          "iopub.status.busy": "2023-08-31T11:41:09.163659Z",
          "iopub.execute_input": "2023-08-31T11:41:09.164345Z",
          "iopub.status.idle": "2023-08-31T11:41:09.174368Z",
          "shell.execute_reply.started": "2023-08-31T11:41:09.164312Z",
          "shell.execute_reply": "2023-08-31T11:41:09.173198Z"
        },
        "trusted": true
      },
      "execution_count": null,
      "outputs": []
    },
    {
      "cell_type": "code",
      "source": [
        "train_raw = (\n",
        "    tf.data.Dataset\n",
        "    .from_tensor_slices((source_raw[is_train], target_raw[is_train]))\n",
        "    .shuffle(BUFFER_SIZE)\n",
        "    .batch(BATCH_SIZE))\n",
        "#~ not inluded data\n",
        "val_raw = (\n",
        "    tf.data.Dataset\n",
        "    .from_tensor_slices((source_raw[~is_train], target_raw[~is_train]))\n",
        "    .shuffle(BUFFER_SIZE)\n",
        "    .batch(BATCH_SIZE))"
      ],
      "metadata": {
        "id": "xX_ZzTswbq1c",
        "execution": {
          "iopub.status.busy": "2023-08-31T11:41:09.175672Z",
          "iopub.execute_input": "2023-08-31T11:41:09.176645Z",
          "iopub.status.idle": "2023-08-31T11:41:09.485139Z",
          "shell.execute_reply.started": "2023-08-31T11:41:09.176583Z",
          "shell.execute_reply": "2023-08-31T11:41:09.484010Z"
        },
        "trusted": true
      },
      "execution_count": null,
      "outputs": []
    },
    {
      "cell_type": "code",
      "source": [
        "#\n",
        "for example_source_strings, example_target_strings in train_raw.take(1):\n",
        "  print(example_source_strings[:3])\n",
        "  print()\n",
        "  print(example_target_strings[:3])\n",
        "  break"
      ],
      "metadata": {
        "id": "qc6-NK1GtWQt",
        "execution": {
          "iopub.status.busy": "2023-08-31T11:41:09.490574Z",
          "iopub.execute_input": "2023-08-31T11:41:09.490897Z",
          "iopub.status.idle": "2023-08-31T11:41:09.648790Z",
          "shell.execute_reply.started": "2023-08-31T11:41:09.490867Z",
          "shell.execute_reply": "2023-08-31T11:41:09.647593Z"
        },
        "trusted": true
      },
      "execution_count": null,
      "outputs": []
    },
    {
      "cell_type": "markdown",
      "source": [
        "#Text preprocessing"
      ],
      "metadata": {
        "id": "EOQ5n55X4uDB"
      }
    },
    {
      "cell_type": "markdown",
      "source": [
        "The model is dealing with multilingual text with a limited vocabulary. So it will be important to standardize the input text.\n",
        "\n",
        "The first step is Unicode normalization to split accented characters and replace compatibility characters with their ASCII equivalents.\n",
        "\n",
        "The `tensorflow_text` package contains a unicode normalize operation:"
      ],
      "metadata": {
        "id": "upKhKAMK4zzI"
      }
    },
    {
      "cell_type": "code",
      "source": [
        "example_text = tf.constant('Hello')\n",
        "example_text"
      ],
      "metadata": {
        "id": "mD0e-DWGQ2Vo",
        "execution": {
          "iopub.status.busy": "2023-08-31T11:41:09.650532Z",
          "iopub.execute_input": "2023-08-31T11:41:09.650928Z",
          "iopub.status.idle": "2023-08-31T11:41:09.658800Z",
          "shell.execute_reply.started": "2023-08-31T11:41:09.650891Z",
          "shell.execute_reply": "2023-08-31T11:41:09.657645Z"
        },
        "trusted": true
      },
      "execution_count": null,
      "outputs": []
    },
    {
      "cell_type": "markdown",
      "source": [
        "Unicode normalization will be the first step in the text standardization function:"
      ],
      "metadata": {
        "id": "6hTllEjK6RSo"
      }
    },
    {
      "cell_type": "code",
      "source": [
        "def tf_lower_and_split_punct(text):\n",
        "  # Split accented characters.\n",
        "  text = tf_text.normalize_utf8(text, 'NFKD') # arranged in a specific order\n",
        "  #https://towardsdatascience.com/difference-between-nfd-nfc-nfkd-and-nfkc-explained-with-python-code-e2631f96ae6c\n",
        "  text = tf.strings.lower(text)\n",
        "  # Keep space, a to z, and select punctuation.\n",
        "  text = tf.strings.regex_replace(text, '[^ a-z.?!,¿]', '')\n",
        "  # Add spaces around punctuation.\n",
        "  text = tf.strings.regex_replace(text, '[.?!,¿]', r' \\0 ')\n",
        "  # Strip whitespace.\n",
        "  text = tf.strings.strip(text)\n",
        "\n",
        "  text = tf.strings.join(['[START]', text, '[END]'], separator=' ')\n",
        "  return text"
      ],
      "metadata": {
        "id": "chTF5N885F0P",
        "execution": {
          "iopub.status.busy": "2023-08-31T11:41:09.660654Z",
          "iopub.execute_input": "2023-08-31T11:41:09.661365Z",
          "iopub.status.idle": "2023-08-31T11:41:09.669260Z",
          "shell.execute_reply.started": "2023-08-31T11:41:09.661330Z",
          "shell.execute_reply": "2023-08-31T11:41:09.667928Z"
        },
        "trusted": true
      },
      "execution_count": null,
      "outputs": []
    },
    {
      "cell_type": "code",
      "source": [
        "print(example_text.numpy().decode())\n",
        "print(tf_lower_and_split_punct(example_text).numpy().decode())"
      ],
      "metadata": {
        "id": "UREvDg3sEKYa",
        "execution": {
          "iopub.status.busy": "2023-08-31T11:41:09.671192Z",
          "iopub.execute_input": "2023-08-31T11:41:09.671614Z",
          "iopub.status.idle": "2023-08-31T11:41:09.684588Z",
          "shell.execute_reply.started": "2023-08-31T11:41:09.671581Z",
          "shell.execute_reply": "2023-08-31T11:41:09.683614Z"
        },
        "trusted": true
      },
      "execution_count": null,
      "outputs": []
    },
    {
      "cell_type": "markdown",
      "source": [
        "Implementation\n"
      ],
      "metadata": {
        "id": "t38vTDkcg-gy"
      }
    },
    {
      "cell_type": "markdown",
      "source": [
        "#### Text Vectorization"
      ],
      "metadata": {
        "id": "4q-sKsSI7xRZ"
      }
    },
    {
      "cell_type": "markdown",
      "source": [
        "This standardization function will be wrapped up in a `tf.keras.layers.TextVectorization` layer which will handle the vocabulary extraction and conversion of input text to sequences of tokens."
      ],
      "metadata": {
        "id": "6aKn8qd37abi"
      }
    },
    {
      "cell_type": "code",
      "source": [
        "max_vocab_size = 5000\n",
        "# defining source_text_processor\n",
        "source_text_processor = tf.keras.layers.TextVectorization(\n",
        "    standardize=tf_lower_and_split_punct,\n",
        "    max_tokens=max_vocab_size,\n",
        "    ragged=True)"
      ],
      "metadata": {
        "id": "eAY9k49G3jE_",
        "execution": {
          "iopub.status.busy": "2023-08-31T11:41:09.686233Z",
          "iopub.execute_input": "2023-08-31T11:41:09.687249Z",
          "iopub.status.idle": "2023-08-31T11:41:09.699916Z",
          "shell.execute_reply.started": "2023-08-31T11:41:09.687216Z",
          "shell.execute_reply": "2023-08-31T11:41:09.698918Z"
        },
        "trusted": true
      },
      "execution_count": null,
      "outputs": []
    },
    {
      "cell_type": "markdown",
      "source": [
        "The `TextVectorization` layer and many other [Keras preprocessing layers](https://www.tensorflow.org/guide/keras/preprocessing_layers) have an `adapt` method. This method reads one epoch of the training data, and works a lot like `Model.fit`. This `adapt` method initializes the layer based on the data. Here it determines the vocabulary:"
      ],
      "metadata": {
        "id": "7kbC6ODP8IK_"
      }
    },
    {
      "cell_type": "code",
      "source": [
        "source_text_processor.adapt(train_raw.map(lambda source, target: source))\n",
        "\n",
        "# Here are the first 10 words from the vocabulary:\n",
        "source_text_processor.get_vocabulary()[:10]"
      ],
      "metadata": {
        "id": "bmsI1Yql8FYe",
        "execution": {
          "iopub.status.busy": "2023-08-31T11:41:09.701447Z",
          "iopub.execute_input": "2023-08-31T11:41:09.702761Z",
          "iopub.status.idle": "2023-08-31T11:41:14.913567Z",
          "shell.execute_reply.started": "2023-08-31T11:41:09.702728Z",
          "shell.execute_reply": "2023-08-31T11:41:14.912493Z"
        },
        "trusted": true
      },
      "execution_count": null,
      "outputs": []
    },
    {
      "cell_type": "markdown",
      "source": [
        "That's the Spanish `TextVectorization` layer, now build and `.adapt()` the English one:"
      ],
      "metadata": {
        "id": "9kGjIFjX8_Wp"
      }
    },
    {
      "cell_type": "code",
      "source": [
        "target_text_processor = tf.keras.layers.TextVectorization(\n",
        "    standardize=tf_lower_and_split_punct,\n",
        "    max_tokens=max_vocab_size,\n",
        "    ragged=True)\n",
        "\n",
        "target_text_processor.adapt(train_raw.map(lambda context, target: target))\n",
        "target_text_processor.get_vocabulary()[:10]"
      ],
      "metadata": {
        "id": "jlC4xuZnKLBS",
        "execution": {
          "iopub.status.busy": "2023-08-31T11:41:14.917891Z",
          "iopub.execute_input": "2023-08-31T11:41:14.918653Z",
          "iopub.status.idle": "2023-08-31T11:41:20.177077Z",
          "shell.execute_reply.started": "2023-08-31T11:41:14.918613Z",
          "shell.execute_reply": "2023-08-31T11:41:20.175947Z"
        },
        "trusted": true
      },
      "execution_count": null,
      "outputs": []
    },
    {
      "cell_type": "markdown",
      "source": [
        "Now these layers can convert a batch of strings into a batch of token IDs:"
      ],
      "metadata": {
        "id": "BWQqlP_s9eIv"
      }
    },
    {
      "cell_type": "code",
      "source": [
        "example_tokens = source_text_processor(example_source_strings)\n",
        "example_tokens[-2:-1]"
      ],
      "metadata": {
        "id": "9KZxj8IrNZ9S",
        "execution": {
          "iopub.status.busy": "2023-08-31T11:41:20.178728Z",
          "iopub.execute_input": "2023-08-31T11:41:20.179111Z",
          "iopub.status.idle": "2023-08-31T11:41:20.207496Z",
          "shell.execute_reply.started": "2023-08-31T11:41:20.179076Z",
          "shell.execute_reply": "2023-08-31T11:41:20.206366Z"
        },
        "trusted": true
      },
      "execution_count": null,
      "outputs": []
    },
    {
      "cell_type": "markdown",
      "source": [
        "The `get_vocabulary` method can be used to convert token IDs back to text:"
      ],
      "metadata": {
        "id": "AA9rUn9G9n78"
      }
    },
    {
      "cell_type": "code",
      "source": [],
      "metadata": {
        "id": "2_vVrCT4oL3v"
      },
      "execution_count": null,
      "outputs": []
    },
    {
      "cell_type": "code",
      "source": [
        "source_vocab = np.array(source_text_processor.get_vocabulary())\n",
        "tokens = source_vocab[example_tokens[0].numpy()]\n",
        "' '.join(tokens)"
      ],
      "metadata": {
        "id": "98g9rcxGQY0I",
        "execution": {
          "iopub.status.busy": "2023-08-31T11:41:20.210822Z",
          "iopub.execute_input": "2023-08-31T11:41:20.211132Z",
          "iopub.status.idle": "2023-08-31T11:41:20.238516Z",
          "shell.execute_reply.started": "2023-08-31T11:41:20.211106Z",
          "shell.execute_reply": "2023-08-31T11:41:20.237491Z"
        },
        "trusted": true
      },
      "execution_count": null,
      "outputs": []
    },
    {
      "cell_type": "markdown",
      "source": [
        "The returned token IDs are zero-padded. This can easily be turned into a mask:"
      ],
      "metadata": {
        "id": "Ot0aCL9t-Ghi"
      }
    },
    {
      "cell_type": "markdown",
      "source": [
        "### Process the dataset\n",
        "\n"
      ],
      "metadata": {
        "id": "3O0B4XdFlRgc"
      }
    },
    {
      "cell_type": "markdown",
      "source": [
        "The `process_text` function below converts the `Datasets` of strings, into  0-padded tensors of token IDs. It also converts from a `(context, target)` pair to an `((context, target_in), target_out)` pair for training with `keras.Model.fit`. Keras expects `(inputs, labels)` pairs, the inputs are the `(context, target_in)` and the labels are `target_out`. The difference between `target_in` and `target_out` is that they are shifted by one step relative to eachother, so that at each location the label is the next token."
      ],
      "metadata": {
        "id": "rVCuyuSp_whd"
      }
    },
    {
      "cell_type": "code",
      "source": [
        "def process_text(source, target):\n",
        "  source = source_text_processor(source).to_tensor()\n",
        "  target = target_text_processor(target)\n",
        "  targ_in = target[:,:-1].to_tensor()\n",
        "  targ_out = target[:,1:].to_tensor()\n",
        "  return (source, targ_in), targ_out\n",
        "\n",
        "\n",
        "train_ds = train_raw.map(process_text, tf.data.AUTOTUNE)\n",
        "val_ds = val_raw.map(process_text, tf.data.AUTOTUNE)"
      ],
      "metadata": {
        "id": "wk5tbZWQl5u1",
        "execution": {
          "iopub.status.busy": "2023-08-31T11:41:20.268557Z",
          "iopub.execute_input": "2023-08-31T11:41:20.268904Z",
          "iopub.status.idle": "2023-08-31T11:41:20.498337Z",
          "shell.execute_reply.started": "2023-08-31T11:41:20.268871Z",
          "shell.execute_reply": "2023-08-31T11:41:20.497085Z"
        },
        "trusted": true
      },
      "execution_count": null,
      "outputs": []
    },
    {
      "cell_type": "markdown",
      "source": [
        "Here is the first sequence of each, from the first batch:"
      ],
      "metadata": {
        "id": "4iGi7X2m_tbM"
      }
    },
    {
      "cell_type": "code",
      "source": [
        "for (ex_source_tok, ex_tar_in), ex_tar_out in train_ds.take(1):\n",
        "  print(ex_source_tok[0, :10].numpy())\n",
        "  print()\n",
        "  print(ex_tar_in[0, :10].numpy())\n",
        "  print(ex_tar_out[0, :10].numpy())"
      ],
      "metadata": {
        "id": "woQBWAjLsJkr",
        "execution": {
          "iopub.status.busy": "2023-08-31T11:41:20.500107Z",
          "iopub.execute_input": "2023-08-31T11:41:20.500627Z",
          "iopub.status.idle": "2023-08-31T11:41:20.727240Z",
          "shell.execute_reply.started": "2023-08-31T11:41:20.500588Z",
          "shell.execute_reply": "2023-08-31T11:41:20.726036Z"
        },
        "trusted": true
      },
      "execution_count": null,
      "outputs": []
    },
    {
      "cell_type": "code",
      "source": [
        "'''for (ex_source_tok, ex_tar_in), ex_tar_out in train_ds.take(1):\n",
        "  print(source_vocab[ex_source_tok[0, :10].numpy()])\n",
        "  print()\n",
        "  print(target_vocab[ex_tar_in[0, :10].numpy()])\n",
        "  print(target_vocab[ex_tar_out[0, :10].numpy()])\n",
        "#source_vocab'''"
      ],
      "metadata": {
        "execution": {
          "iopub.status.busy": "2023-08-31T11:41:20.729061Z",
          "iopub.execute_input": "2023-08-31T11:41:20.729364Z",
          "iopub.status.idle": "2023-08-31T11:41:20.934218Z",
          "shell.execute_reply.started": "2023-08-31T11:41:20.729337Z",
          "shell.execute_reply": "2023-08-31T11:41:20.933157Z"
        },
        "trusted": true,
        "id": "aH3oXIwzoL4L"
      },
      "execution_count": null,
      "outputs": []
    },
    {
      "cell_type": "markdown",
      "source": [
        "## The encoder/decoder\n",
        "\n",
        "The following diagrams shows an overview of the model. In both the encoder is on the left, the decoder is on the right. At each time-step the decoder's output is combined with the encoder's output, to predict the next word.\n",
        "\n",
        "The original [left] contains a few extra connections that are intentionally omitted from this tutorial's model [right], as they are generally unnecessary, and difficult to implement. Those missing connections are:\n",
        "\n",
        "1. Feeding the state from the encoder's RNN to the decoder's RNN\n",
        "2. Feeding the attention output back to the RNN's input.\n",
        "\n",
        "<table>\n",
        "<tr>\n",
        "  <td>\n",
        "   <img width=500 src=\"https://www.tensorflow.org/images/seq2seq/attention_mechanism.jpg\"/>\n",
        "  </td>\n",
        "  <td>\n",
        "   <img width=380 src=\"https://www.tensorflow.org/images/tutorials/transformer/RNN+attention.png\"/>\n",
        "  </td>\n",
        "</tr>\n",
        "<tr>\n",
        "  <th colspan=1>The original from <a href=https://arxiv.org/abs/1508.04025v5>Effective Approaches to Attention-based Neural Machine Translation</a></th>\n",
        "  <th colspan=1>This tutorial's model</th>\n",
        "<tr>\n",
        "</table>\n"
      ],
      "metadata": {
        "id": "TNfHIF71ulLu"
      }
    },
    {
      "cell_type": "markdown",
      "source": [
        "Before getting into it define constants for the model:"
      ],
      "metadata": {
        "id": "gzQWx2saImMV"
      }
    },
    {
      "cell_type": "code",
      "source": [
        "UNITS = 256"
      ],
      "metadata": {
        "id": "_a9uNz3-IrF-",
        "execution": {
          "iopub.status.busy": "2023-08-31T11:41:20.936212Z",
          "iopub.execute_input": "2023-08-31T11:41:20.936800Z",
          "iopub.status.idle": "2023-08-31T11:41:20.941418Z",
          "shell.execute_reply.started": "2023-08-31T11:41:20.936764Z",
          "shell.execute_reply": "2023-08-31T11:41:20.940338Z"
        },
        "trusted": true
      },
      "execution_count": null,
      "outputs": []
    },
    {
      "cell_type": "markdown",
      "source": [
        "### The encoder\n",
        "\n",
        "The goal of the encoder is to process the context sequence into a sequence of vectors that are useful for the decoder as it attempts to predict the next output for each timestep. Since the context sequence is constant, there is no restriction on how information can flow in the encoder, so use a bidirectional-RNN to do the processing:\n",
        "\n",
        "<table>\n",
        "<tr>\n",
        "  <td>\n",
        "   <img width=500 src=\"https://tensorflow.org/images/tutorials/transformer/RNN-bidirectional.png\"/>\n",
        "  </td>\n",
        "</tr>\n",
        "<tr>\n",
        "  <th>A bidirectional RNN</th>\n",
        "<tr>\n",
        "</table>\n",
        "\n",
        "The encoder:\n",
        "\n",
        "1. Takes a list of token IDs (from `context_text_processor`).\n",
        "3. Looks up an embedding vector for each token (Using a `layers.Embedding`).\n",
        "4. Processes the embeddings into a new sequence (Using a bidirectional `layers.GRU`).\n",
        "5. Returns the processed sequence. This will be passed to the attention head."
      ],
      "metadata": {
        "id": "blNgVbLSzpsr"
      }
    },
    {
      "cell_type": "code",
      "source": [
        "class Encoder(tf.keras.layers.Layer):\n",
        "  def __init__(self, text_processor, units):\n",
        "    super(Encoder, self).__init__()\n",
        "    self.text_processor = text_processor\n",
        "    self.vocab_size = text_processor.vocabulary_size()\n",
        "    self.units = units\n",
        "\n",
        "    # The embedding layer converts tokens to vectors\n",
        "    self.embedding = tf.keras.layers.Embedding(self.vocab_size, units,\n",
        "                                               mask_zero=True)\n",
        "\n",
        "    # The RNN layer processes those vectors sequentially.\n",
        "    self.rnn = tf.keras.layers.Bidirectional(\n",
        "        merge_mode='sum',\n",
        "        layer=tf.keras.layers.GRU(units,\n",
        "                            #Return the sequence and state\n",
        "                            return_sequences=True,\n",
        "                            recurrent_initializer='glorot_uniform'))\n",
        "\n",
        "  def call(self, x):\n",
        "    shape_checker = ShapeChecker()\n",
        "    shape_checker(x, 'batch s')\n",
        "\n",
        "    # 2. The embedding layer looks up the embedding vector for each token.\n",
        "    x = self.embedding(x)\n",
        "    shape_checker(x, 'batch s units')\n",
        "\n",
        "    # 3. The GRU processes the sequence of embeddings.\n",
        "    x = self.rnn(x)\n",
        "    shape_checker(x, 'batch s units')\n",
        "\n",
        "    # 4. Returns the new sequence of embeddings.\n",
        "    return x\n",
        "\n",
        "  def convert_input(self, texts):\n",
        "    texts = tf.convert_to_tensor(texts)\n",
        "    if len(texts.shape) == 0:\n",
        "      texts = tf.convert_to_tensor(texts)[tf.newaxis]\n",
        "    source = self.text_processor(texts).to_tensor()\n",
        "    source = self(source)\n",
        "    return source"
      ],
      "metadata": {
        "id": "nZ2rI24i3jFg",
        "execution": {
          "iopub.status.busy": "2023-08-31T11:41:20.942945Z",
          "iopub.execute_input": "2023-08-31T11:41:20.943293Z",
          "iopub.status.idle": "2023-08-31T11:41:20.955310Z",
          "shell.execute_reply.started": "2023-08-31T11:41:20.943262Z",
          "shell.execute_reply": "2023-08-31T11:41:20.954256Z"
        },
        "trusted": true
      },
      "execution_count": null,
      "outputs": []
    },
    {
      "cell_type": "markdown",
      "source": [
        "Try it out:"
      ],
      "metadata": {
        "id": "D3SKkaQeGn-Q"
      }
    },
    {
      "cell_type": "code",
      "source": [
        "# Encode the input sequence.\n",
        "encoder = Encoder(source_text_processor, UNITS)\n",
        "ex_source = encoder(ex_source_tok)\n",
        "\n",
        "print(f'Context tokens, shape (batch, s): {ex_source_tok.shape}')\n",
        "print(f'Encoder output, shape (batch, s, units): {ex_source.shape}')"
      ],
      "metadata": {
        "id": "60gSVh05Jl6l",
        "execution": {
          "iopub.status.busy": "2023-08-31T11:41:20.958582Z",
          "iopub.execute_input": "2023-08-31T11:41:20.958861Z",
          "iopub.status.idle": "2023-08-31T11:41:21.021108Z",
          "shell.execute_reply.started": "2023-08-31T11:41:20.958836Z",
          "shell.execute_reply": "2023-08-31T11:41:21.020192Z"
        },
        "trusted": true
      },
      "execution_count": null,
      "outputs": []
    },
    {
      "cell_type": "markdown",
      "source": [
        "### The attention layer\n",
        "\n",
        "The attention layer lets the decoder access the information extracted by the encoder. It computes a vector from the entire context sequence, and adds that to the decoder's output.\n",
        "\n",
        "The simplest way you could calculate a single vector from the entire sequence would be to take the average across the sequence (`layers.GlobalAveragePooling1D`). An attention layer is similar, but calculates a **weighted** average across the context sequence. Where the weights are calculated from the combination of context and \"query\" vectors.\n",
        "\n",
        "<table>\n",
        "<tr>\n",
        "  <td>\n",
        "   <img width=500 src=\"https://www.tensorflow.org/images/tutorials/transformer/CrossAttention-new-full.png\"/>\n",
        "  </td>\n",
        "</tr>\n",
        "<tr>\n",
        "  <th colspan=1>The attention layer</th>\n",
        "<tr>\n",
        "</table>"
      ],
      "metadata": {
        "id": "45xM_Gl1MgXY"
      }
    },
    {
      "cell_type": "code",
      "source": [
        "class CrossAttention(tf.keras.layers.Layer):\n",
        "  def __init__(self, units, **kwargs):\n",
        "    super().__init__()\n",
        "    self.mha = tf.keras.layers.MultiHeadAttention(key_dim=units, num_heads=1, **kwargs)\n",
        "    self.layernorm = tf.keras.layers.LayerNormalization()\n",
        "    self.add = tf.keras.layers.Add()\n",
        "\n",
        "  def call(self, x, source):\n",
        "    shape_checker = ShapeChecker()\n",
        "\n",
        "    shape_checker(x, 'batch t units')\n",
        "    shape_checker(source, 'batch s units')\n",
        "\n",
        "    attn_output, attn_scores = self.mha(\n",
        "        query=x,\n",
        "        value=source,\n",
        "        return_attention_scores=True)\n",
        "\n",
        "    shape_checker(x, 'batch t units')\n",
        "    shape_checker(attn_scores, 'batch heads t s')\n",
        "\n",
        "    # Cache the attention scores for plotting later.\n",
        "    attn_scores = tf.reduce_mean(attn_scores, axis=1)\n",
        "    shape_checker(attn_scores, 'batch t s')\n",
        "    self.last_attention_weights = attn_scores\n",
        "\n",
        "    x = self.add([x, attn_output])\n",
        "    x = self.layernorm(x)\n",
        "\n",
        "    return x"
      ],
      "metadata": {
        "id": "-Ql3ymqwD8LS",
        "execution": {
          "iopub.status.busy": "2023-08-31T11:41:21.022493Z",
          "iopub.execute_input": "2023-08-31T11:41:21.022839Z",
          "iopub.status.idle": "2023-08-31T11:41:21.033211Z",
          "shell.execute_reply.started": "2023-08-31T11:41:21.022805Z",
          "shell.execute_reply": "2023-08-31T11:41:21.031977Z"
        },
        "trusted": true
      },
      "execution_count": null,
      "outputs": []
    },
    {
      "cell_type": "code",
      "source": [
        "attention_layer = CrossAttention(UNITS)\n",
        "\n",
        "# Attend to the encoded tokens\n",
        "embed = tf.keras.layers.Embedding(target_text_processor.vocabulary_size(),\n",
        "                                  output_dim=UNITS, mask_zero=True)\n",
        "ex_tar_embed = embed(ex_tar_in)\n",
        "\n",
        "result = attention_layer(ex_tar_embed, ex_source)\n",
        "\n",
        "print(f'Context sequence, shape (batch, s, units): {ex_source.shape}')\n",
        "print(f'Target sequence, shape (batch, t, units): {ex_tar_embed.shape}')\n",
        "print(f'Attention result, shape (batch, t, units): {result.shape}')\n",
        "print(f'Attention weights, shape (batch, t, s):    {attention_layer.last_attention_weights.shape}')"
      ],
      "metadata": {
        "id": "7y7hjPkNMmHh",
        "execution": {
          "iopub.status.busy": "2023-08-31T11:41:21.035174Z",
          "iopub.execute_input": "2023-08-31T11:41:21.035551Z",
          "iopub.status.idle": "2023-08-31T11:41:21.089481Z",
          "shell.execute_reply.started": "2023-08-31T11:41:21.035518Z",
          "shell.execute_reply": "2023-08-31T11:41:21.088479Z"
        },
        "trusted": true
      },
      "execution_count": null,
      "outputs": []
    },
    {
      "cell_type": "markdown",
      "source": [
        "The attention weights will sum to `1` over the context sequence, at each location in the target sequence."
      ],
      "metadata": {
        "id": "vx9fUhi3Pmwp"
      }
    },
    {
      "cell_type": "code",
      "source": [
        "attention_layer.last_attention_weights[0].numpy().sum(axis=-1)"
      ],
      "metadata": {
        "id": "zxyR7cmQPn9P",
        "execution": {
          "iopub.status.busy": "2023-08-31T11:41:21.096358Z",
          "iopub.execute_input": "2023-08-31T11:41:21.096623Z",
          "iopub.status.idle": "2023-08-31T11:41:21.105330Z",
          "shell.execute_reply.started": "2023-08-31T11:41:21.096599Z",
          "shell.execute_reply": "2023-08-31T11:41:21.104249Z"
        },
        "trusted": true
      },
      "execution_count": null,
      "outputs": []
    },
    {
      "cell_type": "markdown",
      "source": [
        "\n",
        "\n",
        "Here are the attention weights across the source sequences at `t=0`:"
      ],
      "metadata": {
        "id": "AagyXMH-Jhqt"
      }
    },
    {
      "cell_type": "code",
      "source": [
        "attention_weights = attention_layer.last_attention_weights\n",
        "mask=(ex_source_tok != 0).numpy()\n",
        "\n",
        "plt.subplot(1, 2, 1)\n",
        "plt.pcolormesh(mask*attention_weights[:, 0, :])\n",
        "plt.title('Attention weights')\n",
        "\n",
        "plt.subplot(1, 2, 2)\n",
        "plt.pcolormesh(mask)\n",
        "plt.title('Mask');\n"
      ],
      "metadata": {
        "id": "Rqr8XGsAJlf6",
        "execution": {
          "iopub.status.busy": "2023-08-31T11:41:21.107054Z",
          "iopub.execute_input": "2023-08-31T11:41:21.107753Z",
          "iopub.status.idle": "2023-08-31T11:41:21.601856Z",
          "shell.execute_reply.started": "2023-08-31T11:41:21.107713Z",
          "shell.execute_reply": "2023-08-31T11:41:21.600872Z"
        },
        "trusted": true
      },
      "execution_count": null,
      "outputs": []
    },
    {
      "cell_type": "markdown",
      "source": [
        "Because of the small-random initialization the attention weights are initially all close to `1/(sequence_length)`. The model will learn to make these less uniform as training progresses."
      ],
      "metadata": {
        "id": "6Eil-C_NN1rp"
      }
    },
    {
      "cell_type": "markdown",
      "source": [
        "### The decoder\n",
        "\n",
        "The decoder's job is to generate predictions for the next token at each location in the target sequence.\n",
        "\n",
        "1. It looks up embeddings for each token in the target sequence.\n",
        "2. It uses an RNN to process the target sequence, and keep track of what it has generated so far.\n",
        "3. It uses RNN output as the \"query\" to the attention layer, when attending to the encoder's output.\n",
        "4. At each location in the output it predicts the next token.\n",
        "\n",
        "When training, the model predicts the next word at each location. So it's important that the information only flows in one direction through the model. The decoder uses a unidirectional (not bidirectional) RNN to process the target sequence.\n",
        "\n",
        "When running inference with this model it produces one word at a time, and those are fed back into the model.\n",
        "\n",
        "<table>\n",
        "<tr>\n",
        "  <td>\n",
        "   <img width=500 src=\"https://tensorflow.org/images/tutorials/transformer/RNN.png\"/>\n",
        "  </td>\n",
        "</tr>\n",
        "<tr>\n",
        "  <th>A unidirectional RNN</th>\n",
        "<tr>\n",
        "</table>"
      ],
      "metadata": {
        "id": "aQ638eHN4iCK"
      }
    },
    {
      "cell_type": "markdown",
      "source": [
        "Here is the `Decoder` class' initializer. The initializer creates all the necessary layers."
      ],
      "metadata": {
        "id": "pZsQJMqNmg_L"
      }
    },
    {
      "cell_type": "code",
      "source": [
        "class Decoder(tf.keras.layers.Layer):\n",
        "  @classmethod\n",
        "  def add_method(cls, fun):\n",
        "    setattr(cls, fun.__name__, fun)\n",
        "    return fun\n",
        "\n",
        "  def __init__(self, text_processor, units):\n",
        "    super(Decoder, self).__init__()\n",
        "    self.text_processor = text_processor\n",
        "    self.vocab_size = text_processor.vocabulary_size()\n",
        "    self.word_to_id = tf.keras.layers.StringLookup(\n",
        "        vocabulary=text_processor.get_vocabulary(),\n",
        "        mask_token='', oov_token='[UNK]')\n",
        "    self.id_to_word = tf.keras.layers.StringLookup(\n",
        "        vocabulary=text_processor.get_vocabulary(),\n",
        "        mask_token='', oov_token='[UNK]',\n",
        "        invert=True)\n",
        "    self.start_token = self.word_to_id('[START]')\n",
        "    self.end_token = self.word_to_id('[END]')\n",
        "\n",
        "    self.units = units\n",
        "\n",
        "\n",
        "    # 1. The embedding layer converts token IDs to vectors\n",
        "    self.embedding = tf.keras.layers.Embedding(self.vocab_size,\n",
        "                                               units, mask_zero=True)\n",
        "\n",
        "    # 2. The RNN keeps track of what's been generated so far.\n",
        "    self.rnn = tf.keras.layers.GRU(units,\n",
        "                                   return_sequences=True,\n",
        "                                   return_state=True,\n",
        "                                   recurrent_initializer='glorot_uniform')\n",
        "\n",
        "    # 3. The RNN output will be the query for the attention layer.\n",
        "    self.attention = CrossAttention(units)\n",
        "\n",
        "    # 4. This fully connected layer produces the logits for each\n",
        "    # output token.\n",
        "    self.output_layer = tf.keras.layers.Dense(self.vocab_size)"
      ],
      "metadata": {
        "id": "erYvHIgAl8kh",
        "execution": {
          "iopub.status.busy": "2023-08-31T11:41:21.603294Z",
          "iopub.execute_input": "2023-08-31T11:41:21.604314Z",
          "iopub.status.idle": "2023-08-31T11:41:21.614740Z",
          "shell.execute_reply.started": "2023-08-31T11:41:21.604275Z",
          "shell.execute_reply": "2023-08-31T11:41:21.613722Z"
        },
        "trusted": true
      },
      "execution_count": null,
      "outputs": []
    },
    {
      "cell_type": "markdown",
      "source": [
        "#### Training"
      ],
      "metadata": {
        "id": "Sd8-nRNzFR8x"
      }
    },
    {
      "cell_type": "markdown",
      "source": [
        "Next, the `call` method, takes 3 arguments:\n",
        "\n",
        "* `inputs` -  a `context, x` pair where:\n",
        "  * `context` - is the context from the encoder's output.\n",
        "  * `x` - is the target sequence input.\n",
        "* `state` - Optional, the previous `state` output from the decoder (the internal state of the decoder's RNN). Pass the state from a previous run to continue generating text where you left off.\n",
        "* `return_state` - [Default: False] - Set this to `True` to return the RNN state."
      ],
      "metadata": {
        "id": "UPnaw583CpnY"
      }
    },
    {
      "cell_type": "code",
      "source": [
        "@Decoder.add_method\n",
        "def call(self,\n",
        "         context, x,\n",
        "         state=None,\n",
        "         return_state=False):\n",
        "  shape_checker = ShapeChecker()\n",
        "  shape_checker(x, 'batch t')\n",
        "  shape_checker(context, 'batch s units')\n",
        "\n",
        "  # 1. Lookup the embeddings\n",
        "  x = self.embedding(x)\n",
        "  shape_checker(x, 'batch t units')\n",
        "\n",
        "  # 2. Process the target sequence.\n",
        "  x, state = self.rnn(x, initial_state=state)\n",
        "  shape_checker(x, 'batch t units')\n",
        "\n",
        "  # 3. Use the RNN output as the query for the attention over the context.\n",
        "  x = self.attention(x, context)\n",
        "  self.last_attention_weights = self.attention.last_attention_weights\n",
        "  shape_checker(x, 'batch t units')\n",
        "  shape_checker(self.last_attention_weights, 'batch t s')\n",
        "\n",
        "  # Step 4. Generate logit predictions for the next token.\n",
        "  logits = self.output_layer(x)\n",
        "  shape_checker(logits, 'batch t target_vocab_size')\n",
        "\n",
        "  if return_state:\n",
        "    return logits, state\n",
        "  else:\n",
        "    return logits"
      ],
      "metadata": {
        "id": "PJOi5btHAPNK",
        "execution": {
          "iopub.status.busy": "2023-08-31T11:41:21.616430Z",
          "iopub.execute_input": "2023-08-31T11:41:21.616800Z",
          "iopub.status.idle": "2023-08-31T11:41:21.632177Z",
          "shell.execute_reply.started": "2023-08-31T11:41:21.616767Z",
          "shell.execute_reply": "2023-08-31T11:41:21.631169Z"
        },
        "trusted": true
      },
      "execution_count": null,
      "outputs": []
    },
    {
      "cell_type": "markdown",
      "source": [
        "That will be sufficient for training. Create an instance of the decoder to test out:"
      ],
      "metadata": {
        "id": "E1-mLAcUEXpK"
      }
    },
    {
      "cell_type": "code",
      "source": [
        "decoder = Decoder(target_text_processor, UNITS)"
      ],
      "metadata": {
        "id": "4ZUMbYXIEVeA",
        "execution": {
          "iopub.status.busy": "2023-08-31T11:41:21.633626Z",
          "iopub.execute_input": "2023-08-31T11:41:21.634063Z",
          "iopub.status.idle": "2023-08-31T11:41:21.813205Z",
          "shell.execute_reply.started": "2023-08-31T11:41:21.634028Z",
          "shell.execute_reply": "2023-08-31T11:41:21.812223Z"
        },
        "trusted": true
      },
      "execution_count": null,
      "outputs": []
    },
    {
      "cell_type": "markdown",
      "source": [
        "In training you'll use the decoder like this:\n",
        "\n",
        "Given the context and target tokens, for each target token it predicts the next target token."
      ],
      "metadata": {
        "id": "SFWaI4wqzt4t"
      }
    },
    {
      "cell_type": "code",
      "source": [
        "logits = decoder(ex_source, ex_tar_in)\n",
        "\n",
        "print(f'encoder output shape: (batch, s, units) {ex_source.shape}')\n",
        "print(f'input target tokens shape: (batch, t) {ex_tar_in.shape}')\n",
        "print(f'logits shape shape: (batch, target_vocabulary_size) {logits.shape}')"
      ],
      "metadata": {
        "id": "5YM-lD7bzx18",
        "execution": {
          "iopub.status.busy": "2023-08-31T11:41:21.814809Z",
          "iopub.execute_input": "2023-08-31T11:41:21.815263Z",
          "iopub.status.idle": "2023-08-31T11:41:21.891836Z",
          "shell.execute_reply.started": "2023-08-31T11:41:21.815182Z",
          "shell.execute_reply": "2023-08-31T11:41:21.890674Z"
        },
        "trusted": true
      },
      "execution_count": null,
      "outputs": []
    },
    {
      "cell_type": "markdown",
      "source": [
        "#### Inference\n",
        "\n",
        "To use it for inference you'll need a couple more methods:"
      ],
      "metadata": {
        "id": "zhS_tbk7VQkX"
      }
    },
    {
      "cell_type": "code",
      "source": [
        "@Decoder.add_method\n",
        "def get_initial_state(self, context):\n",
        "  batch_size = tf.shape(context)[0]\n",
        "  start_tokens = tf.fill([batch_size, 1], self.start_token)\n",
        "  done = tf.zeros([batch_size, 1], dtype=tf.bool)\n",
        "  embedded = self.embedding(start_tokens)\n",
        "  return start_tokens, done, self.rnn.get_initial_state(embedded)[0]"
      ],
      "metadata": {
        "id": "SPm12cnIVRQr",
        "execution": {
          "iopub.status.busy": "2023-08-31T11:59:15.273635Z",
          "iopub.execute_input": "2023-08-31T11:59:15.274088Z",
          "iopub.status.idle": "2023-08-31T11:59:15.282040Z",
          "shell.execute_reply.started": "2023-08-31T11:59:15.274055Z",
          "shell.execute_reply": "2023-08-31T11:59:15.280690Z"
        },
        "trusted": true
      },
      "execution_count": null,
      "outputs": []
    },
    {
      "cell_type": "code",
      "source": [
        "@Decoder.add_method\n",
        "def tokens_to_text(self, tokens):\n",
        "  words = self.id_to_word(tokens)\n",
        "  result = tf.strings.reduce_join(words, axis=-1, separator=' ')\n",
        "  result = tf.strings.regex_replace(result, '^ *\\[START\\] *', '')\n",
        "  result = tf.strings.regex_replace(result, ' *\\[END\\] *$', '')\n",
        "  return result"
      ],
      "metadata": {
        "id": "TzeOhpBvVS5L",
        "execution": {
          "iopub.status.busy": "2023-08-31T11:59:15.581962Z",
          "iopub.execute_input": "2023-08-31T11:59:15.583173Z",
          "iopub.status.idle": "2023-08-31T11:59:15.589914Z",
          "shell.execute_reply.started": "2023-08-31T11:59:15.583134Z",
          "shell.execute_reply": "2023-08-31T11:59:15.588869Z"
        },
        "trusted": true
      },
      "execution_count": null,
      "outputs": []
    },
    {
      "cell_type": "code",
      "source": [
        "@Decoder.add_method\n",
        "def get_next_token(self, source, next_token, done, state, temperature = 0.0):\n",
        "  logits, state = self(\n",
        "    source, next_token,\n",
        "    state = state,\n",
        "    return_state=True)\n",
        "\n",
        "  if temperature == 0.0:\n",
        "    next_token = tf.argmax(logits, axis=-1)\n",
        "  else:\n",
        "    logits = logits[:, -1, :]/temperature\n",
        "    next_token = tf.random.categorical(logits, num_samples=1)\n",
        "\n",
        "  # If a sequence produces an `end_token`, set it `done`\n",
        "  done = done | (next_token == self.end_token)\n",
        "  # Once a sequence is done it only produces 0-padding.\n",
        "  next_token = tf.where(done, tf.constant(0, dtype=tf.int64), next_token)\n",
        "\n",
        "  return next_token, done, state"
      ],
      "metadata": {
        "id": "v6ildnz_V1MA",
        "execution": {
          "iopub.status.busy": "2023-08-31T11:59:16.633240Z",
          "iopub.execute_input": "2023-08-31T11:59:16.633652Z",
          "iopub.status.idle": "2023-08-31T11:59:16.642466Z",
          "shell.execute_reply.started": "2023-08-31T11:59:16.633619Z",
          "shell.execute_reply": "2023-08-31T11:59:16.641134Z"
        },
        "trusted": true
      },
      "execution_count": null,
      "outputs": []
    },
    {
      "cell_type": "markdown",
      "source": [
        "With those extra functions, you can write a generation loop:"
      ],
      "metadata": {
        "id": "9WiXLrVs-FTE"
      }
    },
    {
      "cell_type": "code",
      "source": [
        "# Setup the loop variables.\n",
        "next_token, done, state = decoder.get_initial_state(ex_source)\n",
        "tokens = []\n",
        "\n",
        "for n in range(10):\n",
        "  # Run one step.\n",
        "  next_token, done, state = decoder.get_next_token(\n",
        "      ex_source, next_token, done, state, temperature=1.0)\n",
        "  # Add the token to the output.\n",
        "  tokens.append(next_token)\n",
        "\n",
        "# Stack all the tokens together.\n",
        "tokens = tf.concat(tokens, axis=-1) # (batch, t)\n",
        "\n",
        "# Convert the tokens back to a a string\n",
        "result = decoder.tokens_to_text(tokens)\n",
        "result[:3].numpy()"
      ],
      "metadata": {
        "id": "SuehagxL-JBZ",
        "execution": {
          "iopub.status.busy": "2023-08-31T11:41:21.929994Z",
          "iopub.execute_input": "2023-08-31T11:41:21.930835Z",
          "iopub.status.idle": "2023-08-31T11:41:22.331808Z",
          "shell.execute_reply.started": "2023-08-31T11:41:21.930797Z",
          "shell.execute_reply": "2023-08-31T11:41:22.330828Z"
        },
        "trusted": true
      },
      "execution_count": null,
      "outputs": []
    },
    {
      "cell_type": "markdown",
      "source": [
        "Since the model's untrained, it outputs items from the vocabulary almost uniformly at random."
      ],
      "metadata": {
        "id": "5ALTdqCMLGSY"
      }
    },
    {
      "cell_type": "markdown",
      "source": [
        "## The model\n",
        "\n",
        "Now that you have all the model components, combine them to build the model for training:"
      ],
      "metadata": {
        "id": "B6xyru86m914"
      }
    },
    {
      "cell_type": "code",
      "source": [
        "class Translator(tf.keras.Model):\n",
        "  @classmethod\n",
        "  def add_method(cls, fun):\n",
        "    setattr(cls, fun.__name__, fun)\n",
        "    return fun\n",
        "\n",
        "  def __init__(self, units,\n",
        "               source_text_processor,\n",
        "               target_text_processor):\n",
        "    super().__init__()\n",
        "    # Build the encoder and decoder\n",
        "    encoder = Encoder(source_text_processor, units)\n",
        "    decoder = Decoder(target_text_processor, units)\n",
        "\n",
        "    self.encoder = encoder\n",
        "    self.decoder = decoder\n",
        "\n",
        "  def call(self, inputs):\n",
        "    source, x = inputs\n",
        "    source = self.encoder(source)\n",
        "    logits = self.decoder(source, x)\n",
        "\n",
        "    #TODO(b/250038731): remove this\n",
        "    try:\n",
        "      # Delete the keras mask, so keras doesn't scale the loss+accuracy.\n",
        "      del logits._keras_mask\n",
        "    except AttributeError:\n",
        "      pass\n",
        "\n",
        "    return logits"
      ],
      "metadata": {
        "id": "WWIyuy71TkJT",
        "execution": {
          "iopub.status.busy": "2023-08-31T11:41:22.334047Z",
          "iopub.execute_input": "2023-08-31T11:41:22.334706Z",
          "iopub.status.idle": "2023-08-31T11:41:22.342515Z",
          "shell.execute_reply.started": "2023-08-31T11:41:22.334672Z",
          "shell.execute_reply": "2023-08-31T11:41:22.341540Z"
        },
        "trusted": true
      },
      "execution_count": null,
      "outputs": []
    },
    {
      "cell_type": "markdown",
      "source": [
        "During training the model will be used like this:"
      ],
      "metadata": {
        "id": "5rPi0FkS2iA5"
      }
    },
    {
      "cell_type": "code",
      "source": [
        "model = Translator(UNITS, source_text_processor, target_text_processor)\n",
        "\n",
        "logits = model((ex_source_tok, ex_tar_in))\n",
        "\n",
        "print(f'Context tokens, shape: (batch, s, units) {ex_source_tok.shape}')\n",
        "print(f'Target tokens, shape: (batch, t) {ex_tar_in.shape}')\n",
        "print(f'logits, shape: (batch, t, target_vocabulary_size) {logits.shape}')"
      ],
      "metadata": {
        "id": "8vhjTh84K6Mg",
        "execution": {
          "iopub.status.busy": "2023-08-31T11:41:22.344862Z",
          "iopub.execute_input": "2023-08-31T11:41:22.345967Z",
          "iopub.status.idle": "2023-08-31T11:41:22.635497Z",
          "shell.execute_reply.started": "2023-08-31T11:41:22.345916Z",
          "shell.execute_reply": "2023-08-31T11:41:22.634384Z"
        },
        "trusted": true
      },
      "execution_count": null,
      "outputs": []
    },
    {
      "cell_type": "markdown",
      "source": [
        "### Train"
      ],
      "metadata": {
        "id": "_ch_71VbIRfK"
      }
    },
    {
      "cell_type": "markdown",
      "source": [
        "For training, you'll want to implement your own masked loss and accuracy functions:"
      ],
      "metadata": {
        "id": "8FmzjGmprVmE"
      }
    },
    {
      "cell_type": "code",
      "source": [
        "def masked_loss(y_true, y_pred):\n",
        "    # Calculate the loss for each item in the batch.\n",
        "    loss_fn = tf.keras.losses.SparseCategoricalCrossentropy(\n",
        "        from_logits=True, reduction='none')\n",
        "    loss = loss_fn(y_true, y_pred)\n",
        "\n",
        "    # Mask off the losses on padding.\n",
        "    mask = tf.cast(y_true != 0, loss.dtype)\n",
        "    loss *= mask\n",
        "\n",
        "    # Return the total.\n",
        "    return tf.reduce_sum(loss)/tf.reduce_sum(mask)"
      ],
      "metadata": {
        "id": "WmTHr5iV3jFr",
        "execution": {
          "iopub.status.busy": "2023-08-31T11:41:22.637858Z",
          "iopub.execute_input": "2023-08-31T11:41:22.638268Z",
          "iopub.status.idle": "2023-08-31T11:41:22.645118Z",
          "shell.execute_reply.started": "2023-08-31T11:41:22.638232Z",
          "shell.execute_reply": "2023-08-31T11:41:22.643038Z"
        },
        "trusted": true
      },
      "execution_count": null,
      "outputs": []
    },
    {
      "cell_type": "code",
      "source": [
        "def masked_acc(y_true, y_pred):\n",
        "    # Calculate the loss for each item in the batch.\n",
        "    y_pred = tf.argmax(y_pred, axis=-1)\n",
        "    y_pred = tf.cast(y_pred, y_true.dtype)\n",
        "\n",
        "    match = tf.cast(y_true == y_pred, tf.float32)\n",
        "    mask = tf.cast(y_true != 0, tf.float32)\n",
        "\n",
        "    return tf.reduce_sum(match)/tf.reduce_sum(mask)"
      ],
      "metadata": {
        "id": "nRB1CTmQWOIL",
        "execution": {
          "iopub.status.busy": "2023-08-31T11:41:22.646570Z",
          "iopub.execute_input": "2023-08-31T11:41:22.647622Z",
          "iopub.status.idle": "2023-08-31T11:41:22.656740Z",
          "shell.execute_reply.started": "2023-08-31T11:41:22.647586Z",
          "shell.execute_reply": "2023-08-31T11:41:22.655767Z"
        },
        "trusted": true
      },
      "execution_count": null,
      "outputs": []
    },
    {
      "cell_type": "markdown",
      "source": [
        "Configure the model for training:"
      ],
      "metadata": {
        "id": "f32GuAhw2nXm"
      }
    },
    {
      "cell_type": "code",
      "source": [
        "model.compile(optimizer='adam',\n",
        "              loss=masked_loss,\n",
        "              metrics=[masked_acc, masked_loss])"
      ],
      "metadata": {
        "id": "9g0DRRvm3l9X",
        "execution": {
          "iopub.status.busy": "2023-08-31T11:41:22.658206Z",
          "iopub.execute_input": "2023-08-31T11:41:22.658886Z",
          "iopub.status.idle": "2023-08-31T11:41:22.698767Z",
          "shell.execute_reply.started": "2023-08-31T11:41:22.658854Z",
          "shell.execute_reply": "2023-08-31T11:41:22.697775Z"
        },
        "trusted": true
      },
      "execution_count": null,
      "outputs": []
    },
    {
      "cell_type": "markdown",
      "source": [
        "The model is randomly initialized, and should give roughly uniform output probabilities. So it's easy to predict what the initial values of the metrics should be:"
      ],
      "metadata": {
        "id": "5DWLI3pssjnx"
      }
    },
    {
      "cell_type": "code",
      "source": [
        "vocab_size = 1.0 * target_text_processor.vocabulary_size()\n",
        "\n",
        "{\"expected_loss\": tf.math.log(vocab_size).numpy(),\n",
        " \"expected_acc\": 1/vocab_size}"
      ],
      "metadata": {
        "id": "BuP3_LFENMJG",
        "execution": {
          "iopub.status.busy": "2023-08-31T11:41:22.700570Z",
          "iopub.execute_input": "2023-08-31T11:41:22.700885Z",
          "iopub.status.idle": "2023-08-31T11:41:22.710459Z",
          "shell.execute_reply.started": "2023-08-31T11:41:22.700855Z",
          "shell.execute_reply": "2023-08-31T11:41:22.709308Z"
        },
        "trusted": true
      },
      "execution_count": null,
      "outputs": []
    },
    {
      "cell_type": "markdown",
      "source": [
        "That should roughly match the values returned by running a few steps of evaluation:"
      ],
      "metadata": {
        "id": "frVba49Usd0Z"
      }
    },
    {
      "cell_type": "code",
      "source": [
        "model.evaluate(val_ds, steps=20, return_dict=True)"
      ],
      "metadata": {
        "id": "8rJITfxEsHKR",
        "execution": {
          "iopub.status.busy": "2023-08-31T11:41:22.712640Z",
          "iopub.execute_input": "2023-08-31T11:41:22.713613Z",
          "iopub.status.idle": "2023-08-31T11:41:31.044136Z",
          "shell.execute_reply.started": "2023-08-31T11:41:22.713580Z",
          "shell.execute_reply": "2023-08-31T11:41:31.043165Z"
        },
        "trusted": true
      },
      "execution_count": null,
      "outputs": []
    },
    {
      "cell_type": "code",
      "source": [
        "history = model.fit(\n",
        "    train_ds.repeat(),\n",
        "    epochs=30,\n",
        "    steps_per_epoch = 100,\n",
        "    validation_data=val_ds,\n",
        "    validation_steps = 20,\n",
        "    callbacks=[\n",
        "        tf.keras.callbacks.EarlyStopping(patience=3)])"
      ],
      "metadata": {
        "id": "BQd_esVVoSf3",
        "execution": {
          "iopub.status.busy": "2023-08-31T11:41:31.047442Z",
          "iopub.execute_input": "2023-08-31T11:41:31.047762Z",
          "iopub.status.idle": "2023-08-31T11:44:13.263312Z",
          "shell.execute_reply.started": "2023-08-31T11:41:31.047733Z",
          "shell.execute_reply": "2023-08-31T11:44:13.262294Z"
        },
        "trusted": true
      },
      "execution_count": null,
      "outputs": []
    },
    {
      "cell_type": "code",
      "source": [
        "plt.plot(history.history['loss'], label='loss')\n",
        "plt.plot(history.history['val_loss'], label='val_loss')\n",
        "plt.ylim([0, max(plt.ylim())])\n",
        "plt.xlabel('Epoch #')\n",
        "plt.ylabel('CE/token')\n",
        "plt.legend()"
      ],
      "metadata": {
        "id": "38rLdlmtQHCm",
        "execution": {
          "iopub.status.busy": "2023-08-31T11:44:13.264692Z",
          "iopub.execute_input": "2023-08-31T11:44:13.265362Z",
          "iopub.status.idle": "2023-08-31T11:44:13.592655Z",
          "shell.execute_reply.started": "2023-08-31T11:44:13.265332Z",
          "shell.execute_reply": "2023-08-31T11:44:13.591626Z"
        },
        "trusted": true
      },
      "execution_count": null,
      "outputs": []
    },
    {
      "cell_type": "code",
      "source": [
        "plt.plot(history.history['masked_acc'], label='accuracy')\n",
        "plt.plot(history.history['val_masked_acc'], label='val_accuracy')\n",
        "plt.ylim([0, max(plt.ylim())])\n",
        "plt.xlabel('Epoch #')\n",
        "plt.ylabel('CE/token')\n",
        "plt.legend()"
      ],
      "metadata": {
        "id": "KkhXRASNG80_",
        "execution": {
          "iopub.status.busy": "2023-08-31T11:44:13.594182Z",
          "iopub.execute_input": "2023-08-31T11:44:13.594765Z",
          "iopub.status.idle": "2023-08-31T11:44:13.913085Z",
          "shell.execute_reply.started": "2023-08-31T11:44:13.594730Z",
          "shell.execute_reply": "2023-08-31T11:44:13.911967Z"
        },
        "trusted": true
      },
      "execution_count": null,
      "outputs": []
    },
    {
      "cell_type": "markdown",
      "source": [
        "### Translate\n",
        "\n",
        "Now that the model is trained, implement a function to execute the full `text => text` translation. This code is basically identical to the [inference example](#inference) in the [decoder section](#the_decoder), but this also captures the attention weights."
      ],
      "metadata": {
        "id": "mU3Ce8M6I3rz"
      }
    },
    {
      "cell_type": "code",
      "source": [
        "#@title\n",
        "@Translator.add_method\n",
        "def translate(self,\n",
        "              texts, *,\n",
        "              max_length=50,\n",
        "              temperature=0.0):\n",
        "  # Process the input texts\n",
        "  source = self.encoder.convert_input(texts)\n",
        "  batch_size = tf.shape(texts)[0]\n",
        "\n",
        "  # Setup the loop inputs\n",
        "  tokens = []\n",
        "  attention_weights = []\n",
        "  next_token, done, state = self.decoder.get_initial_state(source)\n",
        "\n",
        "  for _ in range(max_length):\n",
        "    # Generate the next token\n",
        "    next_token, done, state = self.decoder.get_next_token(\n",
        "        source, next_token, done,  state, temperature)\n",
        "\n",
        "    # Collect the generated tokens\n",
        "    tokens.append(next_token)\n",
        "    attention_weights.append(self.decoder.last_attention_weights)\n",
        "\n",
        "    if tf.executing_eagerly() and tf.reduce_all(done):\n",
        "      break\n",
        "\n",
        "  # Stack the lists of tokens and attention weights.\n",
        "  tokens = tf.concat(tokens, axis=-1)   # t*[(batch 1)] -> (batch, t)\n",
        "  self.last_attention_weights = tf.concat(attention_weights, axis=1)  # t*[(batch 1 s)] -> (batch, t s)\n",
        "\n",
        "  result = self.decoder.tokens_to_text(tokens)\n",
        "  return result"
      ],
      "metadata": {
        "id": "mmgYPCVgEwp_",
        "execution": {
          "iopub.status.busy": "2023-08-31T11:44:13.914453Z",
          "iopub.execute_input": "2023-08-31T11:44:13.915140Z",
          "iopub.status.idle": "2023-08-31T11:44:13.927938Z",
          "shell.execute_reply.started": "2023-08-31T11:44:13.915102Z",
          "shell.execute_reply": "2023-08-31T11:44:13.926788Z"
        },
        "trusted": true
      },
      "execution_count": null,
      "outputs": []
    },
    {
      "cell_type": "markdown",
      "source": [
        "Here are the two helper methods, used above, to convert tokens to text, and to get the next token:"
      ],
      "metadata": {
        "id": "U4XufRntbbva"
      }
    },
    {
      "cell_type": "code",
      "source": [
        "result = model.translate(['Hello']) # Are you still home\n",
        "result[0].numpy().decode()"
      ],
      "metadata": {
        "id": "E5hqvbR5FUCD",
        "execution": {
          "iopub.status.busy": "2023-08-31T11:44:13.929640Z",
          "iopub.execute_input": "2023-08-31T11:44:13.930239Z",
          "iopub.status.idle": "2023-08-31T11:44:14.151087Z",
          "shell.execute_reply.started": "2023-08-31T11:44:13.930201Z",
          "shell.execute_reply": "2023-08-31T11:44:14.149898Z"
        },
        "trusted": true
      },
      "execution_count": null,
      "outputs": []
    },
    {
      "cell_type": "markdown",
      "source": [
        "Use that to generate the attention plot:"
      ],
      "metadata": {
        "id": "wQ1iU63cVgfs"
      }
    },
    {
      "cell_type": "code",
      "source": [
        "#@title\n",
        "@Translator.add_method\n",
        "def plot_attention(self, text, **kwargs):\n",
        "  assert isinstance(text, str)\n",
        "  output = self.translate([text], **kwargs)\n",
        "  output = output[0].numpy().decode()\n",
        "\n",
        "  attention = self.last_attention_weights[0]\n",
        "\n",
        "  source = tf_lower_and_split_punct(text)\n",
        "  source = source.numpy().decode().split()\n",
        "\n",
        "  output = tf_lower_and_split_punct(output)\n",
        "  output = output.numpy().decode().split()[1:]\n",
        "\n",
        "  fig = plt.figure(figsize=(10, 10))\n",
        "  ax = fig.add_subplot(1, 1, 1)\n",
        "\n",
        "  ax.matshow(attention, cmap='viridis', vmin=0.0)\n",
        "\n",
        "  fontdict = {'fontsize': 14}\n",
        "\n",
        "  ax.set_xticklabels([''] + source, fontdict=fontdict, rotation=90)\n",
        "  ax.set_yticklabels([''] + output, fontdict=fontdict)\n",
        "\n",
        "  ax.xaxis.set_major_locator(ticker.MultipleLocator(1))\n",
        "  ax.yaxis.set_major_locator(ticker.MultipleLocator(1))\n",
        "\n",
        "  ax.set_xlabel('Input text')\n",
        "  ax.set_ylabel('Output text')"
      ],
      "metadata": {
        "id": "s5hQWlbN3jGF",
        "execution": {
          "iopub.status.busy": "2023-08-31T11:44:14.152636Z",
          "iopub.execute_input": "2023-08-31T11:44:14.153052Z",
          "iopub.status.idle": "2023-08-31T11:44:14.165132Z",
          "shell.execute_reply.started": "2023-08-31T11:44:14.153016Z",
          "shell.execute_reply": "2023-08-31T11:44:14.163849Z"
        },
        "trusted": true
      },
      "execution_count": null,
      "outputs": []
    },
    {
      "cell_type": "code",
      "source": [
        "model.plot_attention('how are you') # Are you still home"
      ],
      "metadata": {
        "id": "rrGawQv2eiA4",
        "execution": {
          "iopub.status.busy": "2023-08-31T11:44:14.167187Z",
          "iopub.execute_input": "2023-08-31T11:44:14.167537Z",
          "iopub.status.idle": "2023-08-31T11:44:14.868062Z",
          "shell.execute_reply.started": "2023-08-31T11:44:14.167504Z",
          "shell.execute_reply": "2023-08-31T11:44:14.866964Z"
        },
        "trusted": true
      },
      "execution_count": null,
      "outputs": []
    },
    {
      "cell_type": "markdown",
      "source": [
        "Translate a few more sentences and plot them:"
      ],
      "metadata": {
        "id": "JHBdOf9duumm"
      }
    },
    {
      "cell_type": "code",
      "source": [
        "%%time\n",
        "#%%time is used to get processing time\n",
        "\n",
        "model.plot_attention('Where are you going')    # This is my life."
      ],
      "metadata": {
        "id": "flT0VlQZK11s",
        "execution": {
          "iopub.status.busy": "2023-08-31T11:44:14.869622Z",
          "iopub.execute_input": "2023-08-31T11:44:14.870001Z",
          "iopub.status.idle": "2023-08-31T11:44:16.637711Z",
          "shell.execute_reply.started": "2023-08-31T11:44:14.869947Z",
          "shell.execute_reply": "2023-08-31T11:44:16.636422Z"
        },
        "trusted": true
      },
      "execution_count": null,
      "outputs": []
    },
    {
      "cell_type": "code",
      "source": [
        "%%time\n",
        " # Try to find out.'\n",
        "model.plot_attention('What is your name')"
      ],
      "metadata": {
        "id": "t-fPYP_9K8xa",
        "execution": {
          "iopub.status.busy": "2023-08-31T11:44:16.639296Z",
          "iopub.execute_input": "2023-08-31T11:44:16.639897Z",
          "iopub.status.idle": "2023-08-31T11:44:17.439934Z",
          "shell.execute_reply.started": "2023-08-31T11:44:16.639852Z",
          "shell.execute_reply": "2023-08-31T11:44:17.438927Z"
        },
        "trusted": true
      },
      "execution_count": null,
      "outputs": []
    },
    {
      "cell_type": "markdown",
      "source": [
        "The short sentences often work well, but if the input is too long the model literally loses focus and stops providing reasonable predictions. There are two main reasons for this:\n",
        "\n",
        "1. The model was trained with teacher-forcing feeding the correct token at each step, regardless of the model's predictions. The model could be made more robust if it were sometimes fed its own predictions.\n",
        "2. The model only has access to its previous output through the RNN state. If the RNN state looses track of where it was in the context sequence there's no way for the model to recover. [Transformers](transformer.ipynb) improve on this by letting the decoder look at what it has output so far."
      ],
      "metadata": {
        "id": "rA3xI3NzrRJt"
      }
    },
    {
      "cell_type": "markdown",
      "source": [
        "The raw data is sorted by length, so try translating the longest sequence:"
      ],
      "metadata": {
        "id": "Vtz6QBoGWqT2"
      }
    },
    {
      "cell_type": "code",
      "source": [
        "long_text = source_raw[-1]\n",
        "\n",
        "import textwrap\n",
        "print('Expected output:\\n', '\\n'.join(textwrap.wrap(target_raw[-1])))"
      ],
      "metadata": {
        "id": "-FUHFLEvSMbG",
        "execution": {
          "iopub.status.busy": "2023-08-31T11:44:17.441355Z",
          "iopub.execute_input": "2023-08-31T11:44:17.442377Z",
          "iopub.status.idle": "2023-08-31T11:44:17.448929Z",
          "shell.execute_reply.started": "2023-08-31T11:44:17.442337Z",
          "shell.execute_reply": "2023-08-31T11:44:17.448003Z"
        },
        "trusted": true
      },
      "execution_count": null,
      "outputs": []
    },
    {
      "cell_type": "code",
      "source": [
        "model.plot_attention(long_text)"
      ],
      "metadata": {
        "id": "lDa_8NaN_RUy",
        "execution": {
          "iopub.status.busy": "2023-08-31T11:44:17.450217Z",
          "iopub.execute_input": "2023-08-31T11:44:17.451200Z",
          "iopub.status.idle": "2023-08-31T11:44:19.782224Z",
          "shell.execute_reply.started": "2023-08-31T11:44:17.451164Z",
          "shell.execute_reply": "2023-08-31T11:44:19.781016Z"
        },
        "trusted": true
      },
      "execution_count": null,
      "outputs": []
    },
    {
      "cell_type": "markdown",
      "source": [
        "The `translate` function works on batches, so if you have multiple texts to translate you can pass them all at once, which is much more efficient than translating them one at a time:"
      ],
      "metadata": {
        "id": "PToqG3GiIUPM"
      }
    },
    {
      "cell_type": "code",
      "source": [
        "inputs = [\n",
        "    \"I want to eat ice cream \",\n",
        "    \"He plays football\",\n",
        "    \"hello\"\n",
        "]"
      ],
      "metadata": {
        "id": "1-FLCjBVEMXL",
        "execution": {
          "iopub.status.busy": "2023-08-31T11:44:19.783871Z",
          "iopub.execute_input": "2023-08-31T11:44:19.784281Z",
          "iopub.status.idle": "2023-08-31T11:44:19.789694Z",
          "shell.execute_reply.started": "2023-08-31T11:44:19.784243Z",
          "shell.execute_reply": "2023-08-31T11:44:19.788329Z"
        },
        "trusted": true
      },
      "execution_count": null,
      "outputs": []
    },
    {
      "cell_type": "code",
      "source": [
        "%%time\n",
        "for t in inputs:\n",
        "  print(model.translate([t])[0].numpy().decode())\n",
        "\n",
        "print()"
      ],
      "metadata": {
        "id": "sT68i4jYEQ7q",
        "execution": {
          "iopub.status.busy": "2023-08-31T11:44:19.791131Z",
          "iopub.execute_input": "2023-08-31T11:44:19.791575Z",
          "iopub.status.idle": "2023-08-31T11:44:20.560659Z",
          "shell.execute_reply.started": "2023-08-31T11:44:19.791542Z",
          "shell.execute_reply": "2023-08-31T11:44:20.559549Z"
        },
        "trusted": true
      },
      "execution_count": null,
      "outputs": []
    },
    {
      "cell_type": "code",
      "source": [
        "%%time\n",
        "result = model.translate(inputs)\n",
        "\n",
        "print(result[0].numpy().decode())\n",
        "print(result[1].numpy().decode())\n",
        "print(result[2].numpy().decode())\n",
        "print()"
      ],
      "metadata": {
        "id": "hd2rgyHwVVrv",
        "execution": {
          "iopub.status.busy": "2023-08-31T11:44:20.562027Z",
          "iopub.execute_input": "2023-08-31T11:44:20.562406Z",
          "iopub.status.idle": "2023-08-31T11:44:20.854013Z",
          "shell.execute_reply.started": "2023-08-31T11:44:20.562368Z",
          "shell.execute_reply": "2023-08-31T11:44:20.852992Z"
        },
        "trusted": true
      },
      "execution_count": null,
      "outputs": []
    },
    {
      "cell_type": "markdown",
      "source": [
        "Na ice cream zein<br>\n",
        "mo polo tsrein<br>\n",
        "china<br>"
      ],
      "metadata": {
        "id": "0XdjbwBIVNqC"
      }
    },
    {
      "cell_type": "code",
      "source": [],
      "metadata": {
        "id": "STqgm7EwVNDl"
      },
      "execution_count": null,
      "outputs": []
    },
    {
      "cell_type": "markdown",
      "source": [
        "## Do not try at home ^.^\n",
        "\n",
        "> Indented block\n",
        "\n",
        "\n",
        "\n",
        "* [Download a different dataset](http://www.manythings.org/anki/) to experiment with translations, for example, English to German, or English to French.\n",
        "* Experiment with training on a larger dataset, or using more epochs."
      ],
      "metadata": {
        "id": "RTe5P5ioMJwN"
      }
    }
  ]
}